{
 "metadata": {
  "language_info": {
   "codemirror_mode": {
    "name": "ipython",
    "version": 3
   },
   "file_extension": ".py",
   "mimetype": "text/x-python",
   "name": "python",
   "nbconvert_exporter": "python",
   "pygments_lexer": "ipython3",
   "version": "3.6.9"
  },
  "orig_nbformat": 2,
  "kernelspec": {
   "name": "python3",
   "display_name": "Python 3.6.9 64-bit ('modelop': conda)",
   "metadata": {
    "interpreter": {
     "hash": "1bc0af681b6debbd76b10de7ba3014cd62e1e3ee55e8e9a892bbbe23fd8d618c"
    }
   }
  }
 },
 "nbformat": 4,
 "nbformat_minor": 2,
 "cells": [
  {
   "source": [
    "## Training and saving a model in ONNX format to use in MOC"
   ],
   "cell_type": "markdown",
   "metadata": {}
  },
  {
   "cell_type": "code",
   "execution_count": 1,
   "metadata": {},
   "outputs": [],
   "source": [
    "# Train a model\n",
    "from sklearn.datasets import load_iris\n",
    "from sklearn.model_selection import train_test_split\n",
    "from sklearn.ensemble import RandomForestClassifier\n",
    "\n",
    "# Load iris_dataset\n",
    "iris = load_iris()\n",
    "X, y = iris.data, iris.target\n",
    "\n",
    "# Split data\n",
    "X_train, X_test, y_train, y_test = train_test_split(X, y)"
   ]
  },
  {
   "cell_type": "code",
   "execution_count": 2,
   "metadata": {},
   "outputs": [
    {
     "output_type": "execute_result",
     "data": {
      "text/plain": [
       "RandomForestClassifier(bootstrap=True, ccp_alpha=0.0, class_weight=None,\n",
       "                       criterion='gini', max_depth=None, max_features='auto',\n",
       "                       max_leaf_nodes=None, max_samples=None,\n",
       "                       min_impurity_decrease=0.0, min_impurity_split=None,\n",
       "                       min_samples_leaf=1, min_samples_split=2,\n",
       "                       min_weight_fraction_leaf=0.0, n_estimators=100,\n",
       "                       n_jobs=None, oob_score=False, random_state=None,\n",
       "                       verbose=0, warm_start=False)"
      ]
     },
     "metadata": {},
     "execution_count": 2
    }
   ],
   "source": [
    "# Fit a random forest classifier\n",
    "clr = RandomForestClassifier()\n",
    "clr.fit(X_train, y_train)"
   ]
  },
  {
   "cell_type": "code",
   "execution_count": 3,
   "metadata": {},
   "outputs": [],
   "source": [
    "\n",
    "# Convert into ONNX format\n",
    "from skl2onnx import convert_sklearn\n",
    "from skl2onnx.common.data_types import FloatTensorType\n",
    "\n",
    "initial_type = [('float_input', FloatTensorType([None, 4]))]\n",
    "onx = convert_sklearn(clr, initial_types=initial_type)\n",
    "with open(\"rf_iris.onnx\", \"wb\") as f:\n",
    "    f.write(onx.SerializeToString())"
   ]
  },
  {
   "cell_type": "code",
   "execution_count": 4,
   "metadata": {},
   "outputs": [],
   "source": [
    "# Compute the prediction with ONNX Runtime\n",
    "import onnxruntime as rt\n",
    "import numpy\n",
    "\n",
    "sess = rt.InferenceSession(\"rf_iris.onnx\")\n",
    "input_name = sess.get_inputs()[0].name\n",
    "label_name = sess.get_outputs()[0].name\n",
    "pred_onnx = sess.run([label_name], {input_name: X_test.astype(numpy.float32)})[0]"
   ]
  },
  {
   "cell_type": "code",
   "execution_count": 5,
   "metadata": {},
   "outputs": [
    {
     "output_type": "execute_result",
     "data": {
      "text/plain": [
       "array([0, 2, 2, 0, 0, 1, 1, 1, 0, 1, 1, 0, 0, 0, 2, 0, 1, 0, 2, 1, 2, 0,\n",
       "       1, 0, 0, 2, 2, 0, 1, 2, 1, 1, 1, 2, 1, 0, 0, 2], dtype=int64)"
      ]
     },
     "metadata": {},
     "execution_count": 5
    }
   ],
   "source": [
    "pred_onnx"
   ]
  },
  {
   "cell_type": "code",
   "execution_count": 6,
   "metadata": {},
   "outputs": [],
   "source": [
    "# Compute prediction on data from a CSV file\n",
    "import pandas as pd\n",
    "df = pd.read_csv('input_data.csv')"
   ]
  },
  {
   "cell_type": "code",
   "execution_count": 7,
   "metadata": {},
   "outputs": [
    {
     "output_type": "execute_result",
     "data": {
      "text/plain": [
       "    x1   x2   x3   x4\n",
       "0  4.9  2.4  3.3  1.0\n",
       "1  4.6  3.6  1.0  0.2\n",
       "2  5.4  3.4  1.5  0.4\n",
       "3  5.8  2.7  5.1  1.9\n",
       "4  6.3  3.3  4.7  1.6"
      ],
      "text/html": "<div>\n<style scoped>\n    .dataframe tbody tr th:only-of-type {\n        vertical-align: middle;\n    }\n\n    .dataframe tbody tr th {\n        vertical-align: top;\n    }\n\n    .dataframe thead th {\n        text-align: right;\n    }\n</style>\n<table border=\"1\" class=\"dataframe\">\n  <thead>\n    <tr style=\"text-align: right;\">\n      <th></th>\n      <th>x1</th>\n      <th>x2</th>\n      <th>x3</th>\n      <th>x4</th>\n    </tr>\n  </thead>\n  <tbody>\n    <tr>\n      <th>0</th>\n      <td>4.9</td>\n      <td>2.4</td>\n      <td>3.3</td>\n      <td>1.0</td>\n    </tr>\n    <tr>\n      <th>1</th>\n      <td>4.6</td>\n      <td>3.6</td>\n      <td>1.0</td>\n      <td>0.2</td>\n    </tr>\n    <tr>\n      <th>2</th>\n      <td>5.4</td>\n      <td>3.4</td>\n      <td>1.5</td>\n      <td>0.4</td>\n    </tr>\n    <tr>\n      <th>3</th>\n      <td>5.8</td>\n      <td>2.7</td>\n      <td>5.1</td>\n      <td>1.9</td>\n    </tr>\n    <tr>\n      <th>4</th>\n      <td>6.3</td>\n      <td>3.3</td>\n      <td>4.7</td>\n      <td>1.6</td>\n    </tr>\n  </tbody>\n</table>\n</div>"
     },
     "metadata": {},
     "execution_count": 7
    }
   ],
   "source": [
    "df.head()"
   ]
  },
  {
   "cell_type": "code",
   "execution_count": 8,
   "metadata": {},
   "outputs": [],
   "source": [
    "# Turn data into numpy array\n",
    "df_array = numpy.array(df)"
   ]
  },
  {
   "cell_type": "code",
   "execution_count": 9,
   "metadata": {},
   "outputs": [],
   "source": [
    "# Predict using trained model\n",
    "pred_onnx = sess.run([label_name], {input_name: df_array.astype(numpy.float32)})[0]\n",
    "out_df = pd.DataFrame(columns=['id','prediction'])\n",
    "out_df['id']=range(len(df_array))\n",
    "out_df['prediction'] = pred_onnx\n",
    "\n"
   ]
  },
  {
   "cell_type": "code",
   "execution_count": 10,
   "metadata": {},
   "outputs": [
    {
     "output_type": "execute_result",
     "data": {
      "text/plain": [
       "[{'id': 0, 'prediction': 1},\n",
       " {'id': 1, 'prediction': 0},\n",
       " {'id': 2, 'prediction': 0},\n",
       " {'id': 3, 'prediction': 2},\n",
       " {'id': 4, 'prediction': 1},\n",
       " {'id': 5, 'prediction': 0},\n",
       " {'id': 6, 'prediction': 0},\n",
       " {'id': 7, 'prediction': 1},\n",
       " {'id': 8, 'prediction': 2},\n",
       " {'id': 9, 'prediction': 2},\n",
       " {'id': 10, 'prediction': 2},\n",
       " {'id': 11, 'prediction': 1},\n",
       " {'id': 12, 'prediction': 0},\n",
       " {'id': 13, 'prediction': 1},\n",
       " {'id': 14, 'prediction': 1},\n",
       " {'id': 15, 'prediction': 2},\n",
       " {'id': 16, 'prediction': 1},\n",
       " {'id': 17, 'prediction': 0},\n",
       " {'id': 18, 'prediction': 2},\n",
       " {'id': 19, 'prediction': 0},\n",
       " {'id': 20, 'prediction': 2},\n",
       " {'id': 21, 'prediction': 0},\n",
       " {'id': 22, 'prediction': 0},\n",
       " {'id': 23, 'prediction': 0},\n",
       " {'id': 24, 'prediction': 1},\n",
       " {'id': 25, 'prediction': 1},\n",
       " {'id': 26, 'prediction': 0},\n",
       " {'id': 27, 'prediction': 1},\n",
       " {'id': 28, 'prediction': 1},\n",
       " {'id': 29, 'prediction': 2},\n",
       " {'id': 30, 'prediction': 2},\n",
       " {'id': 31, 'prediction': 2},\n",
       " {'id': 32, 'prediction': 1},\n",
       " {'id': 33, 'prediction': 1},\n",
       " {'id': 34, 'prediction': 2},\n",
       " {'id': 35, 'prediction': 1},\n",
       " {'id': 36, 'prediction': 0},\n",
       " {'id': 37, 'prediction': 1}]"
      ]
     },
     "metadata": {},
     "execution_count": 10
    }
   ],
   "source": [
    "# Predictions as a list of dictionaries\n",
    "out_df.to_dict(orient='records')"
   ]
  },
  {
   "cell_type": "code",
   "execution_count": null,
   "metadata": {},
   "outputs": [],
   "source": []
  }
 ]
}